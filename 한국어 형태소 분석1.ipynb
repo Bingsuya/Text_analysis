{
 "cells": [
  {
   "cell_type": "code",
   "execution_count": 1,
   "metadata": {},
   "outputs": [],
   "source": [
    "from konlpy.tag import Twitter"
   ]
  },
  {
   "cell_type": "code",
   "execution_count": 4,
   "metadata": {},
   "outputs": [
    {
     "name": "stdout",
     "output_type": "stream",
     "text": [
      "[('안녕', 'Noun'), ('내', 'Noun'), ('이름', 'Noun'), ('은', 'Josa'), ('이동환', 'Noun'), ('이야', 'Josa'), ('!', 'Punctuation'), ('만나다', 'Verb'), ('반갑다', 'Adjective'), ('.', 'Punctuation')]\n"
     ]
    }
   ],
   "source": [
    "if __name__ =='__main__':\n",
    "    twitter = Twitter()\n",
    "    malist = twitter.pos(\"안녕 내 이름은 이동환이야! 만나서 반가워.\", norm=True, stem=True)\n",
    "    print(malist)"
   ]
  },
  {
   "cell_type": "code",
   "execution_count": 5,
   "metadata": {},
   "outputs": [],
   "source": [
    "import requests"
   ]
  }
 ],
 "metadata": {
  "kernelspec": {
   "display_name": "Python 3",
   "language": "python",
   "name": "python3"
  },
  "language_info": {
   "codemirror_mode": {
    "name": "ipython",
    "version": 3
   },
   "file_extension": ".py",
   "mimetype": "text/x-python",
   "name": "python",
   "nbconvert_exporter": "python",
   "pygments_lexer": "ipython3",
   "version": "3.6.7"
  }
 },
 "nbformat": 4,
 "nbformat_minor": 2
}
