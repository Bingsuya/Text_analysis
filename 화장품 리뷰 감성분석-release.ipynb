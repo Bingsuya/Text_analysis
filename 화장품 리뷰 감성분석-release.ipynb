{
 "cells": [
  {
   "cell_type": "code",
   "execution_count": 1,
   "metadata": {},
   "outputs": [],
   "source": [
    "import scipy as sp\n",
    "import pandas as pd\n",
    "import numpy as np\n",
    "import scipy as sp\n",
    "\n",
    "from konlpy.tag import Kkma       ; kkma = Kkma()\n",
    "from konlpy.tag import Hannanum   ; hannanum = Hannanum()\n",
    "from konlpy.tag import Okt        ; t = Okt()\n",
    "from konlpy.tag import *\n",
    "import pickle\n",
    "\n",
    "from sklearn.feature_extraction.text import CountVectorizer\n",
    "from sklearn.feature_extraction.text import TfidfVectorizer\n",
    "from sklearn.linear_model import LogisticRegression\n",
    "from sklearn.pipeline import Pipeline\n",
    "from sklearn.metrics import accuracy_score\n",
    "from sklearn.model_selection import train_test_split"
   ]
  },
  {
   "cell_type": "code",
   "execution_count": 3,
   "metadata": {},
   "outputs": [],
   "source": [
    "# 평점 전처리 함수\n",
    "def star_preprocessing(value) :\n",
    "#     value = int(text)\n",
    "\n",
    "    if value <= 3 :\n",
    "        return '0'\n",
    "    else :\n",
    "        return '1'\n",
    "\n",
    "# 형태소 분석을 위한 함수\n",
    "def tokenizer(text) :\n",
    "    okt = Okt()\n",
    "    return okt.morphs(text)"
   ]
  },
  {
   "cell_type": "code",
   "execution_count": 4,
   "metadata": {},
   "outputs": [],
   "source": [
    "def step1_data_preprocessing() :\n",
    "    # 수집한 데이터를 읽어온다.\n",
    "    df = pd.read_csv('data/cos27.csv')\n",
    "\n",
    "    # 전처리를 수행한다.\n",
    "    df['rating'] = df['rating'].apply(star_preprocessing)\n",
    "\n",
    "    # 학습데이터와 테스트 데이터로 나눈다.\n",
    "    text_list = df['content'].tolist()\n",
    "    star_list = df['rating'].tolist()\n",
    "\n",
    "    from sklearn.model_selection import train_test_split\n",
    "\n",
    "    # 80%는 학습, 20%는 test\n",
    "    text_train, text_test, star_train, star_test = train_test_split(text_list, star_list, test_size=0.2, random_state=0)\n",
    "\n",
    "    return text_train, text_test, star_train, star_test\n",
    "\n",
    "\n",
    "from sklearn.feature_extraction.text import TfidfVectorizer\n",
    "from sklearn.linear_model import LogisticRegression\n",
    "from sklearn.pipeline import Pipeline\n",
    "from sklearn.metrics import accuracy_score\n",
    "import pickle\n",
    "from konlpy.tag import *"
   ]
  },
  {
   "cell_type": "code",
   "execution_count": 5,
   "metadata": {},
   "outputs": [],
   "source": [
    "df = pd.read_csv('data/cos27.csv')"
   ]
  },
  {
   "cell_type": "code",
   "execution_count": 6,
   "metadata": {},
   "outputs": [
    {
     "data": {
      "text/plain": [
       "(4000, 2)"
      ]
     },
     "execution_count": 6,
     "metadata": {},
     "output_type": "execute_result"
    }
   ],
   "source": [
    "df.shape"
   ]
  },
  {
   "cell_type": "code",
   "execution_count": 7,
   "metadata": {},
   "outputs": [],
   "source": [
    "def step2_learning(X_train, y_train, X_test, y_test):\n",
    "    # 주어진 데이터를 단어 사전으로 만들고 각 단어의 빈도수를 계산한 후 벡터화 하는 객체 생성\n",
    "    tfidf = TfidfVectorizer(lowercase=False, tokenizer=tokenizer)\n",
    "\n",
    "    # 문장별 나오는 단어수 세서 수치화, 벡터화해서 학습을 시킨다.\n",
    "    logistic = LogisticRegression(C=10.0, penalty='l2', random_state=0)\n",
    "\n",
    "    pipe = Pipeline([('vect', tfidf), ('clf', logistic)])\n",
    "\n",
    "    # 학습한다.\n",
    "    pipe.fit(X_train, y_train)\n",
    "\n",
    "    # 학습 정확도 측정\n",
    "    y_pred = pipe.predict(X_test)\n",
    "    print(accuracy_score(y_test, y_pred))\n",
    "\n",
    "    # 학습된 모델을 저장한다.\n",
    "    with open('pipe.dat', 'wb') as fp :\n",
    "        pickle.dump(pipe, fp)\n",
    "        \n",
    "    print('저장완료')"
   ]
  },
  {
   "cell_type": "code",
   "execution_count": 8,
   "metadata": {},
   "outputs": [],
   "source": [
    "def step3_using_model() :\n",
    "    # 객체를 복원한다.\n",
    "    with open('pipe.dat', 'rb') as fp:\n",
    "        pipe = pickle.load(fp)\n",
    "\n",
    "    import numpy as np\n",
    "\n",
    "    while True :\n",
    "        text = input('리뷰를 작성해주세요 :')\n",
    "\n",
    "        str = [text]\n",
    "        # 예측 정확도\n",
    "        r1 = np.max(pipe.predict_proba(str) * 100)\n",
    "        # 예측 결과\n",
    "        r2 = pipe.predict(str)[0]\n",
    "\n",
    "        if r2 == '1' :\n",
    "            print('긍정적인 리뷰')\n",
    "        else :\n",
    "            print('부정적인 리뷰')\n",
    "\n",
    "        print('정확도 : %.3f' % r1)\n",
    "\n",
    "        \n",
    "# 학습 함수\n",
    "def learing() :\n",
    "    text_train, text_test, star_train, star_test = step1_data_preprocessing()\n",
    "    step2_learning(text_train, star_train, text_test, star_test)\n",
    "\n",
    "# 사용 함수\n",
    "def using() :\n",
    "    step3_using_model()"
   ]
  },
  {
   "cell_type": "code",
   "execution_count": null,
   "metadata": {},
   "outputs": [
    {
     "name": "stderr",
     "output_type": "stream",
     "text": [
      "C:\\Users\\runia\\Anaconda3\\lib\\site-packages\\sklearn\\linear_model\\logistic.py:433: FutureWarning: Default solver will be changed to 'lbfgs' in 0.22. Specify a solver to silence this warning.\n",
      "  FutureWarning)\n"
     ]
    },
    {
     "name": "stdout",
     "output_type": "stream",
     "text": [
      "0.80125\n",
      "저장완료\n"
     ]
    }
   ],
   "source": [
    "learing()\n",
    "using()"
   ]
  },
  {
   "cell_type": "code",
   "execution_count": 1,
   "metadata": {},
   "outputs": [],
   "source": []
  }
 ],
 "metadata": {
  "kernelspec": {
   "display_name": "Python 3",
   "language": "python",
   "name": "python3"
  },
  "language_info": {
   "codemirror_mode": {
    "name": "ipython",
    "version": 3
   },
   "file_extension": ".py",
   "mimetype": "text/x-python",
   "name": "python",
   "nbconvert_exporter": "python",
   "pygments_lexer": "ipython3",
   "version": "3.6.7"
  }
 },
 "nbformat": 4,
 "nbformat_minor": 2
}
